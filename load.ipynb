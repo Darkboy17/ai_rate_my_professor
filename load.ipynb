{
 "cells": [
  {
   "cell_type": "code",
   "execution_count": null,
   "metadata": {},
   "outputs": [],
   "source": [
    "import vertexai\n",
    "from vertexai.generative_models import GenerativeModel\n",
    "\n",
    "# TODO(developer): Update and un-comment below line\n",
    "project_id = \"rate-my-prof-rag-433210\"\n",
    "\n",
    "vertexai.init(project=project_id, location=\"us-central1\")\n",
    "\n",
    "model = GenerativeModel(\"gemini-1.5-flash-001\")\n",
    "\n",
    "response = model.generate_content(\n",
    "    \"How is PI derived? Please explain in detail.\"\n",
    ")\n",
    "\n",
    "print(response.text)"
   ]
  },
  {
   "cell_type": "code",
   "execution_count": null,
   "metadata": {},
   "outputs": [],
   "source": [
    "from dotenv import load_dotenv\n",
    "load_dotenv()\n",
    "import os\n",
    "from pinecone import Pinecone, ServerlessSpec"
   ]
  },
  {
   "cell_type": "code",
   "execution_count": null,
   "metadata": {},
   "outputs": [],
   "source": [
    "pc = Pinecone(api_key=os.getenv(\"PINECONE_API_KEY\"))\n",
    "pc.create_index(\n",
    "    name=\"rag\", dimension=768, metric=\"cosine\", spec=ServerlessSpec(cloud=\"aws\", region=\"us-east-1\")\n",
    ")"
   ]
  },
  {
   "cell_type": "code",
   "execution_count": null,
   "metadata": {},
   "outputs": [],
   "source": [
    "import json\n",
    "data = json.load(open(\"reviews.json\"))\n",
    "data"
   ]
  },
  {
   "cell_type": "code",
   "execution_count": 78,
   "metadata": {},
   "outputs": [],
   "source": [
    "\n",
    "from typing import List, Optional\n",
    "from vertexai.language_models import TextEmbeddingInput, TextEmbeddingModel\n",
    "import json\n",
    "\n",
    "def embed_reviews(reviews: List[dict], model_name: str = \"text-embedding-004\", dimensionality: Optional[int] = 768) -> List[List[float]]:\n",
    "    \"\"\"Embeds reviews with a pre-trained, foundational model.\"\"\"\n",
    "    model = TextEmbeddingModel.from_pretrained(model_name)\n",
    "    \n",
    "    # Ensure reviews is a list of dictionaries\n",
    "    if isinstance(reviews, list) and all(isinstance(review, dict) for review in reviews):\n",
    "        inputs = [TextEmbeddingInput(review['review']) for review in reviews]\n",
    "        kwargs = dict(output_dimensionality=dimensionality) if dimensionality else {}\n",
    "        embeddings = model.get_embeddings(inputs, **kwargs)\n",
    "        return [embedding.values for embedding in embeddings]\n",
    "    else:\n",
    "        raise ValueError(\"Reviews must be a list of dictionaries.\")\n",
    "\n",
    "data = json.load(open(\"reviews.json\"))\n",
    "\n",
    "# Assuming `data` is your loaded JSON data\n",
    "processed_data = []\n",
    "\n",
    "# Directly access the list of reviews\n",
    "reviews_list = data['reviews']\n",
    "\n",
    "for review in reviews_list:\n",
    "    professor = review['professor']\n",
    "    subject = review['subject']\n",
    "    stars = review['stars']\n",
    "    review_text = review['review']\n",
    "    \n",
    "    embeddings = embed_reviews([review], model_name=\"text-embedding-004\")\n",
    "\n",
    "    processed_data.append({\n",
    "    \"values\": embeddings[0], \n",
    "    \"id\": review[\"professor\"], \n",
    "    \"metadata\": {\n",
    "        \"review\": review[\"review\"], \n",
    "        \"subject\": review[\"subject\"], \n",
    "        \"stars\": review[\"stars\"]\n",
    "    }\n",
    "\n",
    "})"
   ]
  },
  {
   "cell_type": "code",
   "execution_count": null,
   "metadata": {},
   "outputs": [],
   "source": [
    "processed_data[0]"
   ]
  },
  {
   "cell_type": "code",
   "execution_count": null,
   "metadata": {},
   "outputs": [],
   "source": [
    "index = pc.Index('rag')\n",
    "index.upsert(\n",
    "    vectors=processed_data,\n",
    "    namespace=\"ns1\"\n",
    "    \n",
    ")"
   ]
  },
  {
   "cell_type": "code",
   "execution_count": null,
   "metadata": {},
   "outputs": [],
   "source": [
    "index.describe_index_stats()"
   ]
  },
  {
   "cell_type": "code",
   "execution_count": null,
   "metadata": {},
   "outputs": [],
   "source": [
    "def calculate_text_embeddings(text: str, model_name: str = \"text-embedding-004\", dimensionality: Optional[int] = 768) -> List[List[float]]:\n",
    "    \"\"\"Embeds text with a pre-trained, foundational model.\"\"\"\n",
    "    model = TextEmbeddingModel.from_pretrained(model_name)\n",
    "    \n",
    "    # Ensure text is a string\n",
    "    if isinstance(text, str):\n",
    "        # Create a TextEmbeddingInput instance for the single piece of text\n",
    "        inputs = [TextEmbeddingInput(text)]\n",
    "        kwargs = dict(output_dimensionality=dimensionality) if dimensionality else {}\n",
    "        embeddings = model.get_embeddings(inputs, **kwargs)\n",
    "        # Assuming embeddings is a list of embedding objects, extract the values\n",
    "        return [[value for value in embedding.values] for embedding in embeddings]\n",
    "    else:\n",
    "        raise ValueError(\"Input must be a string.\")"
   ]
  },
  {
   "cell_type": "code",
   "execution_count": 157,
   "metadata": {},
   "outputs": [],
   "source": [
    "import requests # type: ignore\n",
    "from bs4 import BeautifulSoup # type: ignore\n",
    "\n",
    "url = 'https://www.ratemyprofessors.com/professor/2175825'\n",
    "\n",
    "page = requests.get(url)\n",
    "\n",
    "soup = BeautifulSoup(page.text, 'html')"
   ]
  },
  {
   "cell_type": "code",
   "execution_count": 158,
   "metadata": {},
   "outputs": [],
   "source": [
    "ratingsData = soup.find_all('ul', class_='cbdtns')\n",
    "stars_data = ratingsData[0].find_all('div', class_='DObVa')[0].find_all('div')[0].find_all('div')\n",
    "review_data = ratingsData[0].find_all('div', class_='gRjWel')[0]\n",
    "professor_data = soup.find_all('div', class_='kFNvIp')[0].find_all('span')\n",
    "subject_data = soup.find_all('div', class_='iLYGwn')[0].find_all('a')[0].find_all('b')[0]\n"
   ]
  },
  {
   "cell_type": "code",
   "execution_count": 159,
   "metadata": {},
   "outputs": [],
   "source": [
    "stars = stars_data[1].text\n",
    "review = review_data.text\n",
    "professor = f'{professor_data[1].text} {professor_data[2].text}'\n",
    "subject = subject_data.text.split()[0]"
   ]
  },
  {
   "cell_type": "code",
   "execution_count": 156,
   "metadata": {},
   "outputs": [
    {
     "name": "stdout",
     "output_type": "stream",
     "text": [
      "stars: 5.0\n",
      "review: My favorite professor of all time - my second semester with Aaron (AKA Ronald). I could not recommend someone more for such a difficult course. He made Chemistry SO easy and understandable, and Piazza is the most amazing forum. Take 110B/112B regardless of your major because it is worth it! Best TAs and always responded to questions within minutes.\n",
      "professor: Aaron Garner \n",
      "subject: Chemistry\n"
     ]
    }
   ],
   "source": [
    "print('stars:', stars)\n",
    "print('review:', review)\n",
    "print('professor:', professor)\n",
    "print('subject:', subject)"
   ]
  },
  {
   "cell_type": "code",
   "execution_count": null,
   "metadata": {},
   "outputs": [],
   "source": []
  }
 ],
 "metadata": {
  "kernelspec": {
   "display_name": "rag",
   "language": "python",
   "name": "python3"
  },
  "language_info": {
   "codemirror_mode": {
    "name": "ipython",
    "version": 3
   },
   "file_extension": ".py",
   "mimetype": "text/x-python",
   "name": "python",
   "nbconvert_exporter": "python",
   "pygments_lexer": "ipython3",
   "version": "3.12.4"
  }
 },
 "nbformat": 4,
 "nbformat_minor": 2
}
